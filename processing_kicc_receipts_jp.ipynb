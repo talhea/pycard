{
 "cells": [
  {
   "cell_type": "markdown",
   "metadata": {},
   "source": [
    "# KICC 입금현황 엑셀 파일 처리"
   ]
  },
  {
   "cell_type": "code",
   "execution_count": null,
   "metadata": {},
   "outputs": [],
   "source": [
    "import datetime\n",
    "import openpyxl\n",
    "\n",
    "# 1. 입금 날짜 및 파일명\n",
    "target_date = (datetime.datetime.now() - datetime.timedelta(1)).strftime(\"%Y%m%d\")  # 어제 날짜 포맷\n",
    "\n",
    "downdata_dir = f'./data/{target_date}/downdata/'                                    # 읽어들일 down디렉토리 './data/YYYYMMDD/downdata/'\n",
    "receipts_filename = downdata_dir + '입금현황 · 일별.xlsx'                               # KICC 입금현황 엑셀파일"
   ]
  }
 ],
 "metadata": {
  "kernelspec": {
   "display_name": "Python 3.10.5 ('main')",
   "language": "python",
   "name": "python3"
  },
  "language_info": {
   "name": "python",
   "version": "3.10.5"
  },
  "orig_nbformat": 4,
  "vscode": {
   "interpreter": {
    "hash": "5b3e9ff110fca189b640152dbca1582818d88c9c2a9ef25df7a407523fb4d550"
   }
  }
 },
 "nbformat": 4,
 "nbformat_minor": 2
}
