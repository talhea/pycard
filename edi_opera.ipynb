{
 "cells": [
  {
   "cell_type": "code",
   "execution_count": 115,
   "metadata": {},
   "outputs": [],
   "source": [
    "## 단위 EDI 엑셀 파일을 읽어 들여서 dt_trial_balance 파일의 내용을 넣는다"
   ]
  },
  {
   "cell_type": "code",
   "execution_count": 39,
   "metadata": {},
   "outputs": [
    {
     "name": "stdout",
     "output_type": "stream",
     "text": [
      "1\n",
      "2\n"
     ]
    },
    {
     "ename": "AttributeError",
     "evalue": "'MergedCell' object has no attribute 'col_idx'",
     "output_type": "error",
     "traceback": [
      "\u001b[1;31m---------------------------------------------------------------------------\u001b[0m",
      "\u001b[1;31mAttributeError\u001b[0m                            Traceback (most recent call last)",
      "\u001b[1;32mc:\\work\\git\\pycard\\edi_opera.ipynb 셀 2\u001b[0m in \u001b[0;36m<cell line: 21>\u001b[1;34m()\u001b[0m\n\u001b[0;32m     <a href='vscode-notebook-cell:/c%3A/work/git/pycard/edi_opera.ipynb#ch0000001?line=20'>21</a>\u001b[0m \u001b[39mfor\u001b[39;00m row \u001b[39min\u001b[39;00m ws:\n\u001b[0;32m     <a href='vscode-notebook-cell:/c%3A/work/git/pycard/edi_opera.ipynb#ch0000001?line=21'>22</a>\u001b[0m     \u001b[39m# print([cell.value for cell in row])\u001b[39;00m\n\u001b[0;32m     <a href='vscode-notebook-cell:/c%3A/work/git/pycard/edi_opera.ipynb#ch0000001?line=22'>23</a>\u001b[0m     \u001b[39mfor\u001b[39;00m cell \u001b[39min\u001b[39;00m row:\n\u001b[1;32m---> <a href='vscode-notebook-cell:/c%3A/work/git/pycard/edi_opera.ipynb#ch0000001?line=23'>24</a>\u001b[0m         \u001b[39mprint\u001b[39m(cell\u001b[39m.\u001b[39;49mcol_idx)\n",
      "\u001b[1;31mAttributeError\u001b[0m: 'MergedCell' object has no attribute 'col_idx'"
     ]
    }
   ],
   "source": [
    "import pandas as pnds\n",
    "import openpyxl\n",
    "import datetime\n",
    "import pickle\n",
    "\n",
    "# 1. EDI 템플릿 엑셀 파일을 읽어서 DataFrame 생성\n",
    "excel_filename = './EDI-xx월.xlsx'                                  # EDI 엑셀파일\n",
    "edi_excel = openpyxl.load_workbook(excel_filename, data_only=False)  # 수식파일 포함하여 엑셀파일 읽어 들임\n",
    "ws = edi_excel.active                                               # 활성화된 sheet\n",
    "\n",
    "yesterday = datetime.datetime.now() - datetime.timedelta(1) # 어제 날짜 추출\n",
    "target_date = yesterday.strftime('%Y%m%d')                  # 어제 날짜 포맷\n",
    "opera_date = yesterday.strftime('%b.%d.%Y')                 # 어제 날짜 오페라 포맷\n",
    "\n",
    "excel_filename = './EDI-' + str(yesterday.day) + '월.xlsx'   # 파일 저장 시에 필요한 당 월의 엑셀파일 이름\n",
    "\n",
    "# 엑셀 화면 출력\n",
    "# for row in ws.iter_rows(min_row=1):\n",
    "#     print([col.value for col in row])\n",
    "for row in ws:\n",
    "    print([cell.value for cell in row])\n"
   ]
  },
  {
   "cell_type": "code",
   "execution_count": null,
   "metadata": {},
   "outputs": [
    {
     "name": "stdout",
     "output_type": "stream",
     "text": [
      "                  DESCRIPTION  TB_AMOUNT  NON_REVENUE_AMT    TRX_DATE\n",
      "TRX_CODE                                                             \n",
      "9233       Manual Master Card    -318421           318421  2022-07-13\n",
      "9237           Manual BC Card    -214330           214330  2022-07-13\n",
      "9238           Manual KM Card    -384899           384899  2022-07-13\n",
      "9239      Manual Samsung Card     -88825            88825  2022-07-13\n",
      "9240           Manual NH Card          0                0  2022-07-13\n",
      "9242           Manual SH Card    -153560           153560  2022-07-13\n",
      "9243          Manual KEB Card    -155166           155166  2022-07-13\n",
      "9245           Manual HD Card     -11000            11000  2022-07-13\n"
     ]
    }
   ],
   "source": [
    "# 2. 오페라 어제 마감된 dataframe trial report(dt_trial_balance_날짜) 읽기\n",
    "# target_date = (datetime.datetime.now() - datetime.timedelta(1)).strftime(\"%Y%m%d\")      # 어제 날짜 추출\n",
    "target_date = '20220713'\n",
    "base_dir = './data/' + target_date + '/dfdata/'\n",
    "data_dir = base_dir + 'df_opera_trial_' + target_date\n",
    "with open(data_dir, \"rb\") as file:\n",
    "    opera_df = pickle.load(file)\n",
    "print(opera_df)\n",
    "# opera_df['TRX_CODE'] = opera_df['TRX_CODE'].astype('str', errors='ignore')      # 일단, str타입으로 변경"
   ]
  },
  {
   "cell_type": "code",
   "execution_count": null,
   "metadata": {},
   "outputs": [
    {
     "name": "stdout",
     "output_type": "stream",
     "text": [
      "['Date', 'Jul.20.2022', None, None, 'Total', None, None, 'Collected', 'Collected', 'Balance', 'Repurchase', 'Repurchase', 'Collection', 'Net']\n",
      "[None, 'BOOK.BL', 'Actual ', 'DIFF', 'BOOK.BL', 'Actual ', 'DIFF', 'Amount', 'Date', None, None, 'Date', None, 'Balance']\n",
      "['L.A', None, None, '=B3-C3', '=B3', '=C3', '=E3-F3', None, None, '=F3-H3', None, None, '=J3', '=J3-M3']\n",
      "['LT', None, None, '=B4-C4', '=B4', '=C4', '=E4-F4', None, None, '=F4-H4', None, None, '=J4', '=J4-M4']\n",
      "['KEB', 155166, None, '=B5-C5', '=B5', '=C5', '=E5-F5', None, None, '=F5-H5', '`', None, '=J5', '=J5-M5']\n",
      "['JCB', None, None, '=B6-C6', '=B6', '=C6', '=E6-F6', None, None, '=F6-H6', None, None, '=J6', '=J6-M6']\n",
      "['VISA', None, None, '=B7-C7', '=B7', '=C7', '=E7-F7', None, None, '=F7-H7', None, None, '=J7', '=J7-M7']\n",
      "['MASTER', 318421, None, '=B8-C8', '=B8', '=C8', '=E8-F8', None, None, '=F8-H8', None, None, '=J8', '=J8-M8']\n",
      "['S.A', None, None, '=B9-C9', '=B9', '=C9', '=E9-F9', None, None, '=F9-H9', None, None, '=J9', '=J9-M9']\n",
      "['SS', 88825, None, '=B10-C10', '=B10', '=C10', '=E10-F10', None, None, '=F10-H10', None, None, '=J10', '=J10-M10']\n",
      "['SH', 153560, None, '=B11-C11', '=B11', '=C11', '=E11-F11', None, None, '=F11-H11', None, None, '=J11', '=J11-M11']\n",
      "['BC', 214330, None, '=B12-C12', '=B12', '=C12', '=E12-F12', None, None, '=F12-H12', None, None, '=J12', '=J12-M12']\n",
      "['은련', None, None, '=B13-C13', '=B13', '=C13', '=E13-F13', None, None, '=F13-H13', None, None, '=J13', '=J13-M13']\n",
      "['KB', 384899, None, '=B14-C14', '=B14', '=C14', '=E14-F14', None, None, '=F14-H14', None, None, '=J14', '=J14-M14']\n",
      "['HD', 11000, None, '=B15-C15', '=B15', '=C15', '=E15-F15', None, None, '=F15-H15', None, None, '=J15', '=J15-M15']\n",
      "['NH', 0, None, '=B16-C16', '=B16', '=C16', '=E16-F16', None, None, '=F16-H16', None, None, '=J16', '=J16-M16']\n",
      "['Citi', None, None, '=B17-C17', '=B17', '=C17', '=E17-F17', None, None, '=F17-H17', None, None, '=J17', '=J17-M17']\n",
      "['Total', '=SUM(B3:B17)', '=SUM(C3:C17)', '=SUM(D3:D17)', '=SUM(E3:E17)', '=SUM(F3:F17)', '=SUM(G3:G17)', '=SUM(H3:H17)', None, '=SUM(J3:J17)', '=SUM(K3:K17)', None, '=SUM(M3:M17)', '=J18-M18']\n",
      "[None, None, None, None, None, None, None, None, None, None, None, None, None, None]\n",
      "[None, None, None, None, None, None, None, None, None, None, None, None, None, None]\n",
      "[None, None, None, None, None, None, None, None, None, None, None, None, None, None]\n",
      "[None, None, None, None, None, None, None, None, None, None, None, None, None, None]\n",
      "[None, None, None, None, None, None, None, None, None, None, None, None, None, None]\n",
      "[None, None, None, None, None, None, None, None, None, None, None, None, None, None]\n",
      "[None, None, None, None, None, None, None, None, None, None, None, None, None, None]\n",
      "[None, None, None, None, None, None, None, None, None, None, None, None, None, None]\n",
      "[None, None, None, None, None, None, None, None, None, None, None, None, None, None]\n",
      "[None, None, None, None, None, None, None, None, None, None, None, None, None, None]\n",
      "[None, None, None, None, None, None, None, None, None, None, None, None, None, None]\n",
      "[None, None, None, None, None, None, None, None, None, None, None, None, None, None]\n",
      "[None, None, None, None, None, None, None, None, None, None, None, None, None, None]\n",
      "[None, None, None, None, None, None, None, None, None, None, None, None, None, None]\n",
      "[None, None, None, None, None, None, None, None, None, None, None, None, None, None]\n",
      "[None, None, None, None, None, None, None, None, None, None, None, None, None, None]\n",
      "[None, None, None, None, None, None, None, None, None, None, None, None, None, None]\n",
      "[None, None, None, None, None, None, None, None, None, None, None, None, None, None]\n",
      "[None, None, None, None, None, None, None, None, None, None, None, None, None, None]\n"
     ]
    }
   ],
   "source": [
    "# 3. 오페라 값이 EDI엑셀에 입력될 정보\n",
    "# # 3-1. 오페라 신용카드 transaction code 추출 : 실행파일 opera_card_trx_code.py(ipynb)에서 생성\n",
    "# card_df = pnds.read_csv('./trx_card_codes.csv', sep='\\t')   # {'TRX_CODE': 'Description'} 형식\n",
    "# card_df.set_index(keys=['TRX_CODE'], inplace=True)          # transaction code를 index로 변경\n",
    "# print(card_df)\n",
    "\n",
    "map_code_edi = {                        # 오페라 dataframe의 trx_code와 EDI 엑셀 좌표 매칭 정보\n",
    "    # TRX_CODE : 엑셀좌표(A1, B13..)\n",
    "    '9231': 'B7',\n",
    "    '9232': 'B9',\n",
    "    '9233': 'B8',\n",
    "    '9234': 'B15',\n",
    "    '9235': 'B6',\n",
    "    '9236': 'B3',\n",
    "    '9237': 'B12',\n",
    "    '9238': 'B14',\n",
    "    '9239': 'B10',\n",
    "    '9240': 'B16',\n",
    "    '9241': 'B17',\n",
    "    '9242': 'B11',\n",
    "    '9243': 'B5',\n",
    "    '9244': 'B4',\n",
    "    '9245': 'B15'\n",
    "}\n",
    "\n",
    "# trial balance 내용을 순서대로 돌면서 엑셀에 입력\n",
    "for code in opera_df.index:     # trx-code looping\n",
    "    ws[map_code_edi[code]] = opera_df.loc[code, 'TB_AMOUNT'] * -1       # -1을 곱한 값\n",
    "ws['B1'] = opera_date           # 날짜 셋팅\n",
    "\n",
    "# 파일 저장\n",
    "# edi_excel.save(excel_filename)\n",
    "# 엑셀 화면 출력\n",
    "for row in ws.iter_rows(min_row=1):\n",
    "    print([col.value for col in row])"
   ]
  },
  {
   "cell_type": "code",
   "execution_count": null,
   "metadata": {},
   "outputs": [],
   "source": [
    "# 내일 날짜는 제외\n",
    "# date_str = (work_date + datetime.timedelta(1)).strftime(\"%Y-%m-%d\")                                     # 내일 날짜 포맷\n",
    "# card_history_df = card_history_df[card_history_df['date'].str.contains(date_str, na=False) == False]\n",
    "\n",
    "# tomorrow = (work_date + datetime.timedelta(1)).strftime('%d')                                                   # 내일 날짜의 day: 'DD' (두자리 문자열)\n",
    "# card_history_df = card_history_df[card_history_df['거래고유번호'].str.startswith(tomorrow, na=False) == False]\n"
   ]
  },
  {
   "cell_type": "code",
   "execution_count": null,
   "metadata": {},
   "outputs": [],
   "source": [
    "# # 10-4. 기존의 KICC 카드거래내역 엑셀 파일에 추가 모드로 저장\n",
    "# try:\n",
    "#     df_filename = 'df_kicc_history_' + target_date + '.xlsx'            # 저장파일 'df_kicc_history_YYYYMMDD.xlsx\n",
    "#     print(target_dir + df_filename)\n",
    "\n",
    "#     with pnds.ExcelWriter(target_dir + df_filename, mode='a', engine='openpyxl') as writer:     # 기존 파일 추가 mode 셋팅\n",
    "#         grouped_df.to_excel(writer, sheet_name='groupped_calc', index=True)\n",
    "# except Exception as e:\n",
    "#     with open('./error.log', 'a') as file:\n",
    "#         file.write(\n",
    "#             f'[edi_opera.py - Making Excel] <{datetime.datetime.now()}> Pandas.ExcelWriter error ({df_filename}) ===> {e}\\n'\n",
    "#         )\n",
    "#     raise(e)"
   ]
  }
 ],
 "metadata": {
  "kernelspec": {
   "display_name": "Python 3.10.5 ('main')",
   "language": "python",
   "name": "python3"
  },
  "language_info": {
   "codemirror_mode": {
    "name": "ipython",
    "version": 3
   },
   "file_extension": ".py",
   "mimetype": "text/x-python",
   "name": "python",
   "nbconvert_exporter": "python",
   "pygments_lexer": "ipython3",
   "version": "3.10.5"
  },
  "orig_nbformat": 4,
  "vscode": {
   "interpreter": {
    "hash": "5b3e9ff110fca189b640152dbca1582818d88c9c2a9ef25df7a407523fb4d550"
   }
  }
 },
 "nbformat": 4,
 "nbformat_minor": 2
}
