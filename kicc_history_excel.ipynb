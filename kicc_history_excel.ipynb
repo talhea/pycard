{
 "cells": [
  {
   "cell_type": "markdown",
   "metadata": {},
   "source": [
    "## 카드 승인 내역 엑셀 처리\n",
    "1단계로 카드승인내역에서 불필요한 라인, 불필요한 컬럼(가뱅점번호, 단말기번호) 삭제하기"
   ]
  },
  {
   "cell_type": "code",
   "execution_count": 24,
   "metadata": {},
   "outputs": [
    {
     "name": "stderr",
     "output_type": "stream",
     "text": [
      "c:\\ProgramData\\Anaconda3\\envs\\main\\lib\\site-packages\\openpyxl\\styles\\stylesheet.py:226: UserWarning: Workbook contains no default style, apply openpyxl's default\n",
      "  warn(\"Workbook contains no default style, apply openpyxl's default\")\n"
     ]
    }
   ],
   "source": [
    "\n",
    "# KICC 신용거래내역 엑셀 파일 테이터 처리\n",
    "\n",
    "import pandas as pnds\n",
    "import pickle\n",
    "import datetime\n",
    "\n",
    "# 1. 엑셀 파일을 읽어서 DataFrame 생성\n",
    "filename = './신용거래내역조회 (11).xlsx'                                       # KICC 신용거래내역 엑셀파일\n",
    "card_history_df = pnds.read_excel(filename, header=0, thousands = ',',          # 금액 천단위 구분자 ',' 고려\n",
    "                                  dtype={'거래고유번호': str, '금액': 'int64'}) # 필요 컬럼의 데이터 타입 고정\n",
    "\n",
    "# 2. 데이터 전처리\n",
    "# 2-1. '거래일시' 컬럼명 수정\n",
    "card_history_df.rename(columns={'거래일시▼': 'date'}, inplace=True)     # '거래일시' 컬럼명 'date'로 수정 => 다른 dataframe과 통일\n",
    "\n",
    "# # 데이터 타입 변경\n",
    "# card_history_df['금액'] = card_history_df['금액'].astype('int64', errors='ignore')      # '금액' : int64\n",
    "\n",
    "# 2-2. '승인번호' 중복 라인제거를 위한 중복 정보 추가\n",
    "dup_series = card_history_df.duplicated(['승인번호'], keep=False)           # '승인번호' 중복 여부 Bool series 리턴, 중복되면 모두 True\n",
    "card_history_df = pnds.concat([card_history_df, dup_series], axis=1)        # 결과를 dataframe column 으로 추가\n",
    "card_history_df.rename(columns={0: 'dup'}, inplace=True)                    # 추가된 중복 컬럼이름을 'dup'로 변경\n",
    "\n",
    "# 2-3. 중복 라인들을 제외하면서, 동시에 필요 컬럼들만 추출\n",
    "card_history_df = card_history_df.loc[card_history_df['dup'] == False][['거래고유번호', '승인구분', 'date', '카드번호', '발급카드사', '매입카드사', '금액']]\n",
    "\n",
    "# 2-4. date 기준 Sorting\n",
    "card_history_df = card_history_df.sort_values(by=['date'])\n",
    "\n",
    "# 2-5. date 포맷 변경: '%Y-%m-%d'\n",
    "card_history_df['date'] = card_history_df['date'].map(lambda str_data: str_data.split()[0], na_action='ignore') # 날짜 포맷 : '%Y-%m-%d'\n",
    "# 다른 방식으로서, 데이터타입을 datetime으로하고 date포맷을 변경하는 방법\n",
    "# opera_df['TRX_DATE'] = opera_df['TRX_DATE'].astype('datetime64[ns]', errors='ignore')    # date 포맷 변경을 위해서 datetimee 형으로 변환\n",
    "# opera_df['TRX_DATE'] = opera_df['TRX_DATE'].dt.strftime('%Y-%m-%d')     # 연산을 통해 포맷 변경 => 반환 타입은 일반 객체로 변경됨\n",
    "\n",
    "# card_history_df\n",
    "\n",
    "# DataFrame 저장\n",
    "target_date = (datetime.datetime.now() - datetime.timedelta(1)).strftime('%Y%m%d')  # 어제날짜의 폴더 이름\n",
    "base_dir = 'C:\\\\work\\\\pycard\\\\dtdata\\\\' + target_date\n",
    "now_date = card_history_df.iloc[1]['date']      # 정렬된 상태에서의 첫번쨰 인덱스를 선택 (정렬 이전의 지료에서 1번 인덱스는 다음날의 자료일 가능성이 있음)\n",
    "file_name = '/dt_kicc_history_' + now_date\n",
    "data_dir = base_dir + file_name\n",
    "with open(data_dir, \"wb\") as file:\n",
    "    pickle.dump(card_history_df, file)"
   ]
  }
 ],
 "metadata": {
  "kernelspec": {
   "display_name": "Python 3.10.5 ('main')",
   "language": "python",
   "name": "python3"
  },
  "language_info": {
   "codemirror_mode": {
    "name": "ipython",
    "version": 3
   },
   "file_extension": ".py",
   "mimetype": "text/x-python",
   "name": "python",
   "nbconvert_exporter": "python",
   "pygments_lexer": "ipython3",
   "version": "3.10.5"
  },
  "orig_nbformat": 4,
  "vscode": {
   "interpreter": {
    "hash": "5b3e9ff110fca189b640152dbca1582818d88c9c2a9ef25df7a407523fb4d550"
   }
  }
 },
 "nbformat": 4,
 "nbformat_minor": 2
}
