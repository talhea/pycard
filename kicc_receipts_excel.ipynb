{
 "cells": [
  {
   "cell_type": "code",
   "execution_count": 3,
   "metadata": {},
   "outputs": [
    {
     "name": "stderr",
     "output_type": "stream",
     "text": [
      "c:\\ProgramData\\Anaconda3\\envs\\main\\lib\\site-packages\\openpyxl\\styles\\stylesheet.py:226: UserWarning: Workbook contains no default style, apply openpyxl's default\n",
      "  warn(\"Workbook contains no default style, apply openpyxl's default\")\n"
     ]
    }
   ],
   "source": [
    "# KICC 입금현황 처리\n",
    "\n",
    "import pandas as pnds\n",
    "import pickle\n",
    "import datetime\n",
    "\n",
    "# 1. 엑셀 파일을 읽어서 DataFrame 생성\n",
    "filename = './입금현황 · 일별.xlsx'                                       # KICC 신용거래내역 엑셀파일\n",
    "receipts_history_df = pnds.read_excel(filename, header=0, thousands = ',',          # 금액 천단위 구분자 ',' 고려\n",
    "                                  dtype={'가맹점번호': str, '접수건수': 'int32',   # 필요 컬럼의 데이터 타입 고정\n",
    "                                        '접수금액': 'int64', '합계건수': 'int32',\n",
    "                                        '합계금액': 'int64', '미입금건수': 'int32',\n",
    "                                        '미입금액': 'int64', '수수료': 'int64',\n",
    "                                        '입금예정액': 'int64'})\n",
    "\n",
    "# 2. '입금예정일자' 컬럼명 수정 : 다른 dataframe과 통일\n",
    "receipts_history_df.rename(columns={'입금예정일자': 'date'}, inplace=True)     # '입금예정일자' 컬럼명 'date'로 수정\n",
    "\n",
    "# 3. 필요한 컬럼만 추출\n",
    "receipts_history_df = receipts_history_df[['카드사', 'date', '접수금액', '합계금액', '수수료', '입금예정액']]\n",
    "\n",
    "# 4. DataFrame 저장\n",
    "# target_date = (datetime.datetime.now() - datetime.timedelta(1)).strftime('%Y%m%d')  # 어제날짜의 폴더 이름\n",
    "# base_dir = 'C:\\\\work\\\\pycard\\\\dtdata\\\\' + target_date\n",
    "# now_date = receips_history_df.iloc[1]['date']      # 정렬된 상태에서의 첫번쨰 인덱스를 선택 (정렬 이전의 자료에서 1번 인덱스는 다음날의 자료일 가능성이 있음)\n",
    "# file_name = '/dt_kicc_receips_' + now_date\n",
    "# data_dir = base_dir + file_name\n",
    "# with open(data_dir, \"wb\") as file:\n",
    "#     pickle.dump(receips_history_df, file)\n",
    "\n",
    "\n",
    "# 임시 dfdata_dir\n",
    "target_date = ''\n",
    "dfdata_dir = './'        # 데이타를 저장할 df디렉토리 './data/YYYYMMDD/dtdata/'\n",
    "    \n",
    "try:\n",
    "    xl_filename = 'df_kicc_receipts_' + target_date + '.xlsx'    # 저장파일 'df_kicc_receipts_YYYYMMDD.xlsx\n",
    "    \n",
    "    with pnds.ExcelWriter(dfdata_dir + xl_filename, mode='w', engine='openpyxl') as writer:\n",
    "        receipts_history_df.to_excel(writer, sheet_name='original', index=False)\n",
    "except Exception as e:\n",
    "    with open('./error.log', 'a') as file:\n",
    "        file.write(\n",
    "            f'[kicc_history.py - Making Excel] <{datetime.datetime.now()}> Pandas.ExcelWriter error ({xl_filename}) ===> {e}\\n'\n",
    "        )\n",
    "    raise(e)"
   ]
  }
 ],
 "metadata": {
  "kernelspec": {
   "display_name": "Python 3.10.5 ('main')",
   "language": "python",
   "name": "python3"
  },
  "language_info": {
   "codemirror_mode": {
    "name": "ipython",
    "version": 3
   },
   "file_extension": ".py",
   "mimetype": "text/x-python",
   "name": "python",
   "nbconvert_exporter": "python",
   "pygments_lexer": "ipython3",
   "version": "3.10.5"
  },
  "orig_nbformat": 4,
  "vscode": {
   "interpreter": {
    "hash": "5b3e9ff110fca189b640152dbca1582818d88c9c2a9ef25df7a407523fb4d550"
   }
  }
 },
 "nbformat": 4,
 "nbformat_minor": 2
}
