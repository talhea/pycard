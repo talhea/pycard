{
 "cells": [
  {
   "cell_type": "code",
   "execution_count": 115,
   "metadata": {},
   "outputs": [],
   "source": [
    "## 단위 EDI 엑셀 파일을 읽어 들여서 dt_trial_balance 파일의 내용을 넣는다"
   ]
  },
  {
   "cell_type": "code",
   "execution_count": 116,
   "metadata": {},
   "outputs": [
    {
     "name": "stdout",
     "output_type": "stream",
     "text": [
      "['Date', 'Jly.07. 2022', None, None, 'Total', None, None, 'Collected', 'Collected', 'Balance', 'Repurchase', 'Repurchase', 'Collection', 'Net']\n",
      "[None, 'BOOK.BL', 'Actual ', 'DIFF', 'BOOK.BL', 'Actual ', 'DIFF', 'Amount', 'Date', None, None, 'Date', None, 'Balance']\n",
      "['L.A', None, None, '=B3-C3', '=B3', '=C3', '=E3-F3', None, None, '=F3-H3', None, None, '=J3', '=J3-M3']\n",
      "['LT', None, None, '=B4-C4', '=B4', '=C4', '=E4-F4', None, None, '=F4-H4', None, None, '=J4', '=J4-M4']\n",
      "['KEB', None, None, '=B5-C5', '=B5', '=C5', '=E5-F5', None, None, '=F5-H5', '`', None, '=J5', '=J5-M5']\n",
      "['JCB', None, None, '=B6-C6', '=B6', '=C6', '=E6-F6', None, None, '=F6-H6', None, None, '=J6', '=J6-M6']\n",
      "['VISA', None, None, '=B7-C7', '=B7', '=C7', '=E7-F7', None, None, '=F7-H7', None, None, '=J7', '=J7-M7']\n",
      "['MASTER', None, None, '=B8-C8', '=B8', '=C8', '=E8-F8', None, None, '=F8-H8', None, None, '=J8', '=J8-M8']\n",
      "['S.A', None, None, '=B9-C9', '=B9', '=C9', '=E9-F9', None, None, '=F9-H9', None, None, '=J9', '=J9-M9']\n",
      "['SS', None, None, '=B10-C10', '=B10', '=C10', '=E10-F10', None, None, '=F10-H10', None, None, '=J10', '=J10-M10']\n",
      "['SH', None, None, '=B11-C11', '=B11', '=C11', '=E11-F11', None, None, '=F11-H11', None, None, '=J11', '=J11-M11']\n",
      "['BC', None, None, '=B12-C12', '=B12', '=C12', '=E12-F12', None, None, '=F12-H12', None, None, '=J12', '=J12-M12']\n",
      "['은련', None, None, '=B13-C13', '=B13', '=C13', '=E13-F13', None, None, '=F13-H13', None, None, '=J13', '=J13-M13']\n",
      "['KB', None, None, '=B14-C14', '=B14', '=C14', '=E14-F14', None, None, '=F14-H14', None, None, '=J14', '=J14-M14']\n",
      "['HD', None, None, '=B15-C15', '=B15', '=C15', '=E15-F15', None, None, '=F15-H15', None, None, '=J15', '=J15-M15']\n",
      "['NH', None, None, '=B16-C16', '=B16', '=C16', '=E16-F16', None, None, '=F16-H16', None, None, '=J16', '=J16-M16']\n",
      "['Citi', None, None, '=B17-C17', '=B17', '=C17', '=E17-F17', None, None, '=F17-H17', None, None, '=J17', '=J17-M17']\n",
      "['Total', '=SUM(B3:B17)', '=SUM(C3:C17)', '=SUM(D3:D17)', '=SUM(E3:E17)', '=SUM(F3:F17)', '=SUM(G3:G17)', '=SUM(H3:H17)', None, '=SUM(J3:J17)', '=SUM(K3:K17)', None, '=SUM(M3:M17)', '=J18-M18']\n",
      "[None, None, None, None, None, None, None, None, None, None, None, None, None, None]\n",
      "[None, None, None, None, None, None, None, None, None, None, None, None, None, None]\n",
      "[None, None, None, None, None, None, None, None, None, None, None, None, None, None]\n",
      "[None, None, None, None, None, None, None, None, None, None, None, None, None, None]\n",
      "[None, None, None, None, None, None, None, None, None, None, None, None, None, None]\n",
      "[None, None, None, None, None, None, None, None, None, None, None, None, None, None]\n",
      "[None, None, None, None, None, None, None, None, None, None, None, None, None, None]\n",
      "[None, None, None, None, None, None, None, None, None, None, None, None, None, None]\n",
      "[None, None, None, None, None, None, None, None, None, None, None, None, None, None]\n",
      "[None, None, None, None, None, None, None, None, None, None, None, None, None, None]\n",
      "[None, None, None, None, None, None, None, None, None, None, None, None, None, None]\n",
      "[None, None, None, None, None, None, None, None, None, None, None, None, None, None]\n",
      "[None, None, None, None, None, None, None, None, None, None, None, None, None, None]\n",
      "[None, None, None, None, None, None, None, None, None, None, None, None, None, None]\n",
      "[None, None, None, None, None, None, None, None, None, None, None, None, None, None]\n",
      "[None, None, None, None, None, None, None, None, None, None, None, None, None, None]\n",
      "[None, None, None, None, None, None, None, None, None, None, None, None, None, None]\n",
      "[None, None, None, None, None, None, None, None, None, None, None, None, None, None]\n",
      "[None, None, None, None, None, None, None, None, None, None, None, None, None, None]\n"
     ]
    }
   ],
   "source": [
    "import pandas as pnds\n",
    "import openpyxl\n",
    "import datetime\n",
    "import pickle\n",
    "\n",
    "# 1. EDI 템플릿 엑셀 파일을 읽어서 DataFrame 생성\n",
    "excel_filename = './EDI-xx월.xlsx'                                  # EDI 엑셀파일\n",
    "edi_excel = openpyxl.load_workbook(excel_filename, data_only=False)  # 수식파일 포함하여 엑셀파일 읽어 들임\n",
    "ws = edi_excel.active                                               # 활성화된 sheet\n",
    "\n",
    "yesterday = datetime.datetime.now() - datetime.timedelta(1) # 어제 날짜 추출\n",
    "target_date = yesterday.strftime('%Y%m%d')                  # 어제 날짜 포맷\n",
    "opera_date = yesterday.strftime('%b.%d.%Y')                 # 어제 날짜 오페라 포맷\n",
    "\n",
    "excel_filename = './EDI-' + str(yesterday.day) + '월.xlsx'   # 앞으로 저장될, 당 월의 엑셀파일 이름\n",
    "\n",
    "# 엑셀 화면 출력\n",
    "for row in ws.iter_rows(min_row=1):\n",
    "    print([col.value for col in row])\n"
   ]
  },
  {
   "cell_type": "code",
   "execution_count": 117,
   "metadata": {},
   "outputs": [
    {
     "name": "stdout",
     "output_type": "stream",
     "text": [
      "                  DESCRIPTION  TB_AMOUNT  NON_REVENUE_AMT    TRX_DATE\n",
      "TRX_CODE                                                             \n",
      "9231        Manual O-VisaCard    -307230           307230  2022-06-24\n",
      "9233       Manual Master Card    -779717           779717  2022-06-24\n",
      "9237           Manual BC Card    -389045           389045  2022-06-24\n",
      "9238           Manual KM Card    -227574           227574  2022-06-24\n",
      "9239      Manual Samsung Card    -391313           391313  2022-06-24\n",
      "9240           Manual NH Card    -220000           220000  2022-06-24\n",
      "9242           Manual SH Card    -371718           371718  2022-06-24\n",
      "9243          Manual KEB Card    -197934           197934  2022-06-24\n",
      "9244           Manual LT Card     -50787            50787  2022-06-24\n",
      "9245           Manual HD Card     -73641            73641  2022-06-24\n"
     ]
    }
   ],
   "source": [
    "# 2. 오페라 어제 마감된 dataframe trial report(dt_trial_balance_날짜) 읽기\n",
    "target_date = (datetime.datetime.now() - datetime.timedelta(1)).strftime(\"%Y%m%d\")      # 어제 날짜 추출\n",
    "target_date = '20220624'\n",
    "base_dir = './dtdata/' + target_date\n",
    "data_dir = base_dir + '/dt_opera_trial_' + target_date\n",
    "with open(data_dir, \"rb\") as file:\n",
    "    opera_df = pickle.load(file)\n",
    "print(opera_df)\n",
    "# opera_df['TRX_CODE'] = opera_df['TRX_CODE'].astype('str', errors='ignore')      # 일단, str타입으로 변경"
   ]
  },
  {
   "cell_type": "code",
   "execution_count": 118,
   "metadata": {},
   "outputs": [],
   "source": [
    "# 3. 오페라 값이 EDI엑셀에 입력될 정보\n",
    "# # 3-1. 오페라 신용카드 transaction code 추출 : 실행파일 opera_card_trx_code.py(ipynb)에서 생성\n",
    "# card_df = pnds.read_csv('./trx_card_codes.csv', sep='\\t')   # {'TRX_CODE': 'Description'} 형식\n",
    "# card_df.set_index(keys=['TRX_CODE'], inplace=True)          # transaction code를 index로 변경\n",
    "# print(card_df)\n",
    "\n",
    "map_code_edi = {                        # 오페라 dataframe의 trx_code와 EDI 엑셀 좌표 매칭 정보\n",
    "    # TRX_CODE : 엑셀좌표(A1, B13..)\n",
    "    '9231': 'B7',\n",
    "    '9232': 'B9',\n",
    "    '9233': 'B8',\n",
    "    '9234': 'B15',\n",
    "    '9235': 'B6',\n",
    "    '9236': 'B3',\n",
    "    '9237': 'B12',\n",
    "    '9238': 'B14',\n",
    "    '9239': 'B10',\n",
    "    '9240': 'B16',\n",
    "    '9241': 'B17',\n",
    "    '9242': 'B11',\n",
    "    '9243': 'B5',\n",
    "    '9244': 'B4',\n",
    "    '9245': 'B15'\n",
    "}\n",
    "\n",
    "# trial balance 내용을 순서대로 돌면서 엑셀에 입력\n",
    "for code in opera_df.index:\n",
    "    ws[map_code_edi[code]] = opera_df.loc[code]['TB_AMOUNT'] * -1       # -1을 곱한 값\n",
    "# 날짜 셋팅\n",
    "ws['B1'] = opera_date\n",
    "\n",
    "edi_excel.save(excel_filename)"
   ]
  }
 ],
 "metadata": {
  "kernelspec": {
   "display_name": "Python 3.10.5 ('main')",
   "language": "python",
   "name": "python3"
  },
  "language_info": {
   "codemirror_mode": {
    "name": "ipython",
    "version": 3
   },
   "file_extension": ".py",
   "mimetype": "text/x-python",
   "name": "python",
   "nbconvert_exporter": "python",
   "pygments_lexer": "ipython3",
   "version": "3.10.5"
  },
  "orig_nbformat": 4,
  "vscode": {
   "interpreter": {
    "hash": "5b3e9ff110fca189b640152dbca1582818d88c9c2a9ef25df7a407523fb4d550"
   }
  }
 },
 "nbformat": 4,
 "nbformat_minor": 2
}
