{
 "cells": [
  {
   "cell_type": "markdown",
   "metadata": {},
   "source": [
    "# openpyxl에서 셀 폰트의 색상 읽기"
   ]
  },
  {
   "cell_type": "code",
   "execution_count": 4,
   "metadata": {},
   "outputs": [
    {
     "name": "stdout",
     "output_type": "stream",
     "text": [
      "18\n",
      "['180012059674', '180011061640', '180011063512', '180033321033', '180012067480', '180022079838', '180133339356', '180121116983', '180033311224', '180012081329', '180021088118', '180021057808', '180033322338', '180033327650', '180021099709']\n"
     ]
    }
   ],
   "source": [
    "\n",
    "from audioop import tomono\n",
    "import pandas as pnds\n",
    "import openpyxl\n",
    "import datetime\n",
    "import pickle, os\n",
    "\n",
    "\n",
    "# 1. EDI 템플릿 엑셀 파일을 읽어서 DataFrame 생성\n",
    "excel_filename = './신용거래내역조회_220617.xlsx'                                     # EDI 엑셀 템플릿 파일\n",
    "\n",
    "try:\n",
    "    edi_excel = openpyxl.load_workbook(excel_filename, data_only=False) # 수식파일 포함하여 엑셀파일 읽어 들임\n",
    "    ws = edi_excel[edi_excel.sheetnames[1]]                             # 활성화된 sheet\n",
    "    # ws = edi_excel.active\n",
    "except Exception as e:\n",
    "    with open('./error.log', 'a') as file:\n",
    "        file.write(\n",
    "            f'[edi_opera.py - Reading Data] <{datetime.datetime.now()}> openpyxl file-reading error ({excel_filename}) ===> {e}\\n'\n",
    "        )\n",
    "    raise(e)\n",
    "\n",
    "target_date = '2022-06-18'\n",
    "# for cell in ws['C']:\n",
    "#     # print(type(cell.value), cell.value)\n",
    "#     # print(cell.value.split()[0])\n",
    "#     if (cell.value.split()[0]) == target_date:\n",
    "\n",
    "# red_rows = []                           # 거래고유번호 리스트 \n",
    "# for row in ws.iter_rows():              # row looping\n",
    "#     if row[2].value.split()[0] == target_date:          # 날짜가 내일 날짜일 경우\n",
    "#         red_rows.append(row[0].value)                   # 해당 '거래고유번호'를 리스트에 추가\n",
    "# print(red_rows)\n",
    "\n",
    "# 내일 날짜의 '거래고유번호'를 추출\n",
    "red_rows = []\n",
    "day = '18'                                  # 내일 날짜의 일(day) : str(datetime.datetime.now().day)\n",
    "\n",
    "# work_date = datetime.datetime.now() - datetime.timedelta(2)\n",
    "# tommorow = work_date.strftime('%d')         # 내일 날짜의 일(day)\n",
    "# print(tommorow)\n",
    "\n",
    "for serial_number in ws['A']:          # '거래고유번호' looping\n",
    "    if serial_number.value.startswith(day): # '거래고유번호'의 시작이 내일날짜의 일(day)로 시작하는 경우\n",
    "        red_rows.append(serial_number.value)          # 해당 거래는 내일 날짜 거래이므로, 이 떄의 '거래고유번호'를 리스트에 저장\n",
    "\n",
    "print(red_rows)\n",
    "\n",
    "\n",
    "# default_color = ws['B2'].font.color.rgb     # FF666666\n",
    "# font_color = ws['A46'].font.color.rgb       # FFFF0000\n",
    "# print(default_color, font_color)\n",
    "\n",
    "# red_rows = []\n",
    "# for row in ws.iter_rows():\n",
    "#     if row[0].font.color.rgb == 'FFFF0000':\n",
    "#         # print([col.value for col in row])\n",
    "#         # red_rows.append([col.value for col in row])\n",
    "#         red_rows.append([                               # 필요한 컬럼만 추출\n",
    "#             row[0].value,                               # '거래고유번호'\n",
    "#             row[1].value,                               # '승인구분'\n",
    "#             row[2].value,                               # 'date'\n",
    "#             row[9].value,                               # '승인번호'\n",
    "#             row[3].value,                               # '카드번호'\n",
    "#             row[5].value,                               # '발급카드사'\n",
    "#             row[6].value,                               # '매입카드사'\n",
    "#             row[7].value,                               # '금액'\n",
    "#             row[8].value,                               # '할부개월'\n",
    "#         ])\n",
    "        \n",
    "#         print([                               # 필요한 컬럼만 추출\n",
    "#             row[0].value,                               # '거래고유번호'\n",
    "#             row[1].value,                               # '승인구분'\n",
    "#             row[2].value,                               # 'date'\n",
    "#             row[9].value,                               # '승인번호'\n",
    "#             row[3].value,                               # '카드번호'\n",
    "#             row[5].value,                               # '발급카드사'\n",
    "#             row[6].value,                               # '매입카드사'\n",
    "#             row[7].value,                               # '금액'\n",
    "#             row[8].value,                               # '할부개월'\n",
    "#         ])\n",
    "\n",
    "    # red_rows = []                           # 거래고유번호 리스트 \n",
    "    # for row in ws.iter_rows():              # row looping\n",
    "    #     if row[0].font.color.rgb == 'FFFF0000':             # 해당 라인의 첫번쨰 셀의 font color가 red일 경우만.\n",
    "    #         red_rows.append(row[0].value)                   # 해당 '거래고유번호'를 리스트에 추가\n",
    "    \n",
    "# print('Result:')\n",
    "# print(red_rows)"
   ]
  }
 ],
 "metadata": {
  "kernelspec": {
   "display_name": "Python 3.10.5 ('main')",
   "language": "python",
   "name": "python3"
  },
  "language_info": {
   "codemirror_mode": {
    "name": "ipython",
    "version": 3
   },
   "file_extension": ".py",
   "mimetype": "text/x-python",
   "name": "python",
   "nbconvert_exporter": "python",
   "pygments_lexer": "ipython3",
   "version": "3.10.5"
  },
  "orig_nbformat": 4,
  "vscode": {
   "interpreter": {
    "hash": "5b3e9ff110fca189b640152dbca1582818d88c9c2a9ef25df7a407523fb4d550"
   }
  }
 },
 "nbformat": 4,
 "nbformat_minor": 2
}
