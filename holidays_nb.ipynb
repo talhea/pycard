{
 "cells": [
  {
   "cell_type": "markdown",
   "metadata": {},
   "source": [
    "## 공공데이터 포털 이용 공휴일 조회"
   ]
  },
  {
   "cell_type": "code",
   "execution_count": 1,
   "metadata": {},
   "outputs": [],
   "source": [
    "from datetime import datetime\n",
    "import requests\n",
    "import json\n",
    "import pandas as pnds\n",
    "from pandas import json_normalize"
   ]
  },
  {
   "cell_type": "code",
   "execution_count": 7,
   "metadata": {},
   "outputs": [
    {
     "data": {
      "text/plain": [
       "[datetime.date(2022, 1, 1),\n",
       " datetime.date(2022, 1, 31),\n",
       " datetime.date(2022, 2, 1),\n",
       " datetime.date(2022, 2, 2),\n",
       " datetime.date(2022, 3, 1),\n",
       " datetime.date(2022, 3, 9),\n",
       " datetime.date(2022, 5, 5),\n",
       " datetime.date(2022, 5, 8),\n",
       " datetime.date(2022, 6, 1),\n",
       " datetime.date(2022, 6, 6),\n",
       " datetime.date(2022, 8, 15),\n",
       " datetime.date(2022, 9, 9),\n",
       " datetime.date(2022, 9, 10),\n",
       " datetime.date(2022, 9, 11),\n",
       " datetime.date(2022, 9, 12),\n",
       " datetime.date(2022, 10, 3),\n",
       " datetime.date(2022, 10, 9),\n",
       " datetime.date(2022, 10, 10),\n",
       " datetime.date(2022, 12, 25)]"
      ]
     },
     "execution_count": 7,
     "metadata": {},
     "output_type": "execute_result"
    }
   ],
   "source": [
    "today = datetime.today().strftime('%Y%m%d')\n",
    "today_year = datetime.today().year\n",
    "\n",
    "# 한국천문연구원_특일 정보\n",
    "# 일반 인증키(Encoding)  \n",
    "# QmNdKSuwR11m4wrVojTx8ugJVgmgJ%2F6wgBPjeDh8zVtsPfbCmE0qaiuzcQn%2B2lwqP1AwzsiQatq9ir59nO0rWg%3D%3D\n",
    "#\n",
    "# 일반 인증키(Decoding) \t\n",
    "# QmNdKSuwR11m4wrVojTx8ugJVgmgJ/6wgBPjeDh8zVtsPfbCmE0qaiuzcQn+2lwqP1AwzsiQatq9ir59nO0rWg== \n",
    "#\n",
    "# End Point \thttp://apis.data.go.kr/B090041/openapi/service/SpcdeInfoService\n",
    "\n",
    "key = 'QmNdKSuwR11m4wrVojTx8ugJVgmgJ%2F6wgBPjeDh8zVtsPfbCmE0qaiuzcQn%2B2lwqP1AwzsiQatq9ir59nO0rWg%3D%3D'\n",
    "url = 'http://apis.data.go.kr/B090041/openapi/service/SpcdeInfoService/getRestDeInfo?_type=json&numOfRows=50&solYear=' + str(today_year) + '&ServiceKey=' + str(key)\n",
    "\n",
    "response = requests.get(url)\n",
    "if response.status_code == 200:\n",
    "\tjson_ob = json.loads(response.text)                             # JSON 문자를 파이썬 객체로 로딩\n",
    "\tholidays_data = json_ob['response']['body']['items']['item']    # 실제 휴일 데이터들\n",
    "\tdataframe = json_normalize(holidays_data)                       # Dataframe 객체로 로딩\n",
    "\n",
    "# print(dataframe)            \n",
    "# 오늘 날짜가 휴일 인지 확인 \n",
    "dateName = dataframe.loc[dataframe['locdate'] == int(today), 'dateName']        # 오늘 날짜 today(datetime 타입)를 int 타입으로 변환해서 'locdate' 와 비교한후 그 떄의 'dateName' 추출\n",
    "                                                                                # 'locdate' 출력모양: 20220101 \n",
    "\n",
    "# datetime 타입으로 변경\n",
    "dataframe['locdate'] = pnds.to_datetime(dataframe['locdate'], format='%Y%m%d')\n",
    "\n",
    "lst = [day.date() for day in dataframe['locdate']]\n",
    "lst\n",
    "\n",
    "# for day in dataframe['locdate']:\n",
    "#     print(day.date())\n",
    "\n",
    "# holidays = dataframe['locdate'].dt.strftime('%Y%m%d').tolist()\n",
    "# print(holidays)"
   ]
  }
 ],
 "metadata": {
  "kernelspec": {
   "display_name": "Python 3.10.5 ('main')",
   "language": "python",
   "name": "python3"
  },
  "language_info": {
   "codemirror_mode": {
    "name": "ipython",
    "version": 3
   },
   "file_extension": ".py",
   "mimetype": "text/x-python",
   "name": "python",
   "nbconvert_exporter": "python",
   "pygments_lexer": "ipython3",
   "version": "3.10.5"
  },
  "orig_nbformat": 4,
  "vscode": {
   "interpreter": {
    "hash": "5b3e9ff110fca189b640152dbca1582818d88c9c2a9ef25df7a407523fb4d550"
   }
  }
 },
 "nbformat": 4,
 "nbformat_minor": 2
}
