{
 "cells": [
  {
   "cell_type": "code",
   "execution_count": 6,
   "metadata": {},
   "outputs": [],
   "source": [
    "# 오페라 transaction code를 추출하는 모듈\n",
    "\n",
    "import pandas as pnds\n",
    "import xml.etree.ElementTree as et\n",
    "import datetime\n",
    "#from IPython.display import display\n",
    "\n",
    "# 오페라 trial balance가 xml 파일로 저장됨\n",
    "xtree = et.parse('./cf_trxcodes18359637.xml')\n",
    "xroot = xtree.getroot()\n",
    "\n",
    "# 실제 필요한 node(G_TRX_CODE 들) 추출\n",
    "g_trx_codes = xtree.findall('LIST_G_TC_GROUP/G_TC_GROUP/LIST_G_TC_SUBGROUP/G_TC_SUBGROUP/LIST_G_TRX_CODE/G_TRX_CODE')\n",
    "\n",
    "# trial balance용 dataframe 만들기\n",
    "rows = []                       # index buffer\n",
    "for node in g_trx_codes:        # each index를 looping\n",
    "    cols = {}                   # column용 딕셔너리 buffer\n",
    "    for item in node:           # index 내의 each column을 looping\n",
    "        key = item.tag.strip()      # column용 딕셔너리 key\n",
    "        cols.update({key: item.text})   # 원하는 column용 딕셔너리 추출\n",
    "\n",
    "    rows.append(cols)           # 완성된 index 한 줄을 리스트에 추가\n",
    "\n",
    "# 추출된 index 리스트에서 DataFrame 생성\n",
    "card_df = pnds.DataFrame(rows)\n",
    "card_df = card_df[['TRX_CODE', 'D3']]                       # transaction code와 그 description만 추출\n",
    "card_df = card_df.rename(columns={'D3': 'Description'})     # description 컬럼명으로 변경\n",
    "card_df = card_df[card_df['TRX_CODE'] >= '9231']            # 매뉴얼 카드 코드만 추출, TRX_CODE 컬럼은 문자열 데이터\n",
    "\n",
    "# csv 파일로 저장\n",
    "base_dir = r'C:\\work\\pycard\\dtdata'\n",
    "file_name = '/trx_card_codes.csv'\n",
    "data_dir = base_dir + file_name\n",
    "card_df.to_csv(data_dir, sep='\\t', index=False)"
   ]
  }
 ],
 "metadata": {
  "kernelspec": {
   "display_name": "Python 3.10.5 ('main')",
   "language": "python",
   "name": "python3"
  },
  "language_info": {
   "codemirror_mode": {
    "name": "ipython",
    "version": 3
   },
   "file_extension": ".py",
   "mimetype": "text/x-python",
   "name": "python",
   "nbconvert_exporter": "python",
   "pygments_lexer": "ipython3",
   "version": "3.10.5"
  },
  "orig_nbformat": 4,
  "vscode": {
   "interpreter": {
    "hash": "5b3e9ff110fca189b640152dbca1582818d88c9c2a9ef25df7a407523fb4d550"
   }
  }
 },
 "nbformat": 4,
 "nbformat_minor": 2
}
